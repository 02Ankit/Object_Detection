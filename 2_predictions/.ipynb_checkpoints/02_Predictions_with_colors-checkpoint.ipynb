{
 "cells": [
  {
   "cell_type": "code",
   "execution_count": 48,
   "id": "5da26bf8-1597-4d71-83e1-93d59c19f0e1",
   "metadata": {},
   "outputs": [],
   "source": [
    "import cv2 # openCV\n",
    "from yolo_predictions_class import YOLO_Pred"
   ]
  },
  {
   "cell_type": "code",
   "execution_count": 50,
   "id": "154a1491-26ee-4390-b7ca-a24ec41ea74b",
   "metadata": {},
   "outputs": [],
   "source": [
    "yolo = YOLO_Pred('./Model3/weights/best.onnx', 'data.yaml')"
   ]
  },
  {
   "cell_type": "code",
   "execution_count": 51,
   "id": "8d4bc03b-a43f-4c3f-96e2-5f015c907f93",
   "metadata": {},
   "outputs": [],
   "source": [
    "img = cv2.imread('./street_image.jpg')\n",
    "\n",
    "cv2.imshow('img', img)\n",
    "cv2.waitKey(0)\n",
    "cv2.destroyAllWindows()"
   ]
  },
  {
   "cell_type": "code",
   "execution_count": 53,
   "id": "8a251128-5ed1-4e70-ba18-3c71c6deb58c",
   "metadata": {},
   "outputs": [
    {
     "ename": "AttributeError",
     "evalue": "'YOLO_Pred' object has no attribute 'predictions'",
     "output_type": "error",
     "traceback": [
      "\u001b[1;31m---------------------------------------------------------------------------\u001b[0m",
      "\u001b[1;31mAttributeError\u001b[0m                            Traceback (most recent call last)",
      "Cell \u001b[1;32mIn[53], line 2\u001b[0m\n\u001b[0;32m      1\u001b[0m \u001b[38;5;66;03m#preditions\u001b[39;00m\n\u001b[1;32m----> 2\u001b[0m img_pred \u001b[38;5;241m=\u001b[39m \u001b[43myolo\u001b[49m\u001b[38;5;241;43m.\u001b[39;49m\u001b[43mpredictions\u001b[49m(img)\n",
      "\u001b[1;31mAttributeError\u001b[0m: 'YOLO_Pred' object has no attribute 'predictions'"
     ]
    }
   ],
   "source": [
    "#preditions\n",
    "img_pred = yolo.predictions(img)"
   ]
  },
  {
   "cell_type": "code",
   "execution_count": 55,
   "id": "3fad2c1b-91f6-4fef-bb0a-2740191a5713",
   "metadata": {},
   "outputs": [
    {
     "ename": "NameError",
     "evalue": "name 'img_pred' is not defined",
     "output_type": "error",
     "traceback": [
      "\u001b[1;31m---------------------------------------------------------------------------\u001b[0m",
      "\u001b[1;31mNameError\u001b[0m                                 Traceback (most recent call last)",
      "Cell \u001b[1;32mIn[55], line 1\u001b[0m\n\u001b[1;32m----> 1\u001b[0m cv2\u001b[38;5;241m.\u001b[39mimshow(\u001b[38;5;124m'\u001b[39m\u001b[38;5;124mpredictions img\u001b[39m\u001b[38;5;124m'\u001b[39m, \u001b[43mimg_pred\u001b[49m)\n\u001b[0;32m      2\u001b[0m cv2\u001b[38;5;241m.\u001b[39mwaitKey(\u001b[38;5;241m0\u001b[39m)\n\u001b[0;32m      3\u001b[0m cv2\u001b[38;5;241m.\u001b[39mdestroyAllWindows()\n",
      "\u001b[1;31mNameError\u001b[0m: name 'img_pred' is not defined"
     ]
    }
   ],
   "source": [
    "cv2.imshow('predictions img', img_pred)\n",
    "cv2.waitKey(0)\n",
    "cv2.destroyAllWindows()"
   ]
  },
  {
   "cell_type": "markdown",
   "id": "2497460d-ccd1-453f-b57f-4ab42e2c4cc4",
   "metadata": {},
   "source": [
    "# Real Time object Detection"
   ]
  },
  {
   "cell_type": "code",
   "execution_count": null,
   "id": "6d4ce1f2-42b6-43b8-aa3b-d072e535b9a8",
   "metadata": {},
   "outputs": [],
   "source": [
    "cap = cv2.VideoCapture('video.mp4')\n",
    "\n",
    "while True:\n",
    "    ret, frame = cap.read()\n",
    "    if ret == False:\n",
    "        print('unable to read video ')\n"
   ]
  }
 ],
 "metadata": {
  "kernelspec": {
   "display_name": "Python 3 (ipykernel)",
   "language": "python",
   "name": "python3"
  },
  "language_info": {
   "codemirror_mode": {
    "name": "ipython",
    "version": 3
   },
   "file_extension": ".py",
   "mimetype": "text/x-python",
   "name": "python",
   "nbconvert_exporter": "python",
   "pygments_lexer": "ipython3",
   "version": "3.10.6"
  }
 },
 "nbformat": 4,
 "nbformat_minor": 5
}
